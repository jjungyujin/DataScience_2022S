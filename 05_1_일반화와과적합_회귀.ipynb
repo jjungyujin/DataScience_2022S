{
 "cells": [
  {
   "cell_type": "markdown",
   "id": "43ee26d3-f580-4ddd-b754-938c1991499d",
   "metadata": {},
   "source": [
    "## 데이터 생성"
   ]
  },
  {
   "cell_type": "code",
   "execution_count": 1,
   "id": "de2d17a1-512e-466e-ba09-78662ca6c0df",
   "metadata": {},
   "outputs": [],
   "source": [
    "import numpy as np"
   ]
  },
  {
   "cell_type": "code",
   "execution_count": 5,
   "id": "925df9b8-9bad-4e65-84aa-8c3e20aee4e2",
   "metadata": {},
   "outputs": [
    {
     "data": {
      "text/plain": [
       "array([0.93401422, 0.23178159, 0.62123324, 0.10608347, 0.06529152,\n",
       "       0.51019645, 0.29187194, 0.43735552, 0.69200902, 0.99467129,\n",
       "       0.14506474, 0.46636556, 0.43297236, 0.9029986 , 0.33519299,\n",
       "       0.79465828, 0.99893655, 0.93705972, 0.22262036, 0.83740038,\n",
       "       0.22359299, 0.87744937, 0.77255023, 0.90862018, 0.75188667,\n",
       "       0.31843641, 0.29488342, 0.05639378, 0.87471779, 0.07567346,\n",
       "       0.33040756, 0.86186245, 0.58511235, 0.13202059, 0.41076466,\n",
       "       0.00453007, 0.62972184, 0.697405  , 0.95446722, 0.9631561 ,\n",
       "       0.97801427, 0.16985887, 0.60437051, 0.33585576, 0.63648712,\n",
       "       0.78831791, 0.8054473 , 0.65209471, 0.92412359, 0.77764716,\n",
       "       0.57570924, 0.08345017, 0.08105202, 0.41913295, 0.65964206,\n",
       "       0.61919276, 0.07483731, 0.08982489, 0.35951985, 0.32696308,\n",
       "       0.80899968, 0.11942855, 0.64879284, 0.88164679, 0.41340282,\n",
       "       0.06229102, 0.01692758, 0.02865823, 0.55097904, 0.10014742,\n",
       "       0.25925867, 0.17862057, 0.13976475, 0.50199874, 0.37440551,\n",
       "       0.74766709, 0.69846894, 0.6186289 , 0.20336303, 0.49068816,\n",
       "       0.51571043, 0.51278068, 0.44749157, 0.66921807, 0.19842305,\n",
       "       0.54557612, 0.0055007 , 0.85063416, 0.82737443, 0.49608439,\n",
       "       0.00636105, 0.86204193, 0.49431817, 0.06162389, 0.93040578,\n",
       "       0.92069504, 0.0460711 , 0.59114279, 0.57685133, 0.55139757])"
      ]
     },
     "execution_count": 5,
     "metadata": {},
     "output_type": "execute_result"
    }
   ],
   "source": [
    "# uniform : 0~1 사이의 난수\n",
    "real_X = np.random.uniform(size=100)\n",
    "real_X"
   ]
  },
  {
   "cell_type": "code",
   "execution_count": 6,
   "id": "f33c8dde-bb1c-4d08-ba4f-5bd057b44bea",
   "metadata": {},
   "outputs": [],
   "source": [
    "real_y = np.sin(2*np.pi*real_X) + 0.15*np.random.normal(0.01, size=100) # 임의로 세운 식"
   ]
  },
  {
   "cell_type": "code",
   "execution_count": 7,
   "id": "51b84b9c-9340-4487-a950-0a76a86a5b19",
   "metadata": {},
   "outputs": [],
   "source": [
    "import matplotlib.pyplot as plt"
   ]
  },
  {
   "cell_type": "code",
   "execution_count": 9,
   "id": "6f3fef80-b35c-40f8-a3a1-40ab8ebdad38",
   "metadata": {},
   "outputs": [
    {
     "data": {
      "text/plain": [
       "<matplotlib.collections.PathCollection at 0x7fbea8bbd8b0>"
      ]
     },
     "execution_count": 9,
     "metadata": {},
     "output_type": "execute_result"
    },
    {
     "data": {
      "image/png": "[encoded data removed]",
      "text/plain": [
       "<Figure size 432x288 with 1 Axes>"
      ]
     },
     "metadata": {
      "needs_background": "light"
     },
     "output_type": "display_data"
    }
   ],
   "source": [
    "plt.scatter(real_X, real_y)\n",
    "# 실제 데이터로 설정"
   ]
  },
  {
   "cell_type": "code",
   "execution_count": 10,
   "id": "888fdd11-67b2-4fcd-8dfd-8f2f73507d64",
   "metadata": {},
   "outputs": [
    {
     "data": {
      "text/html": [
       "<div>\n",
       "<style scoped>\n",
       "    .dataframe tbody tr th:only-of-type {\n",
       "        vertical-align: middle;\n",
       "    }\n",
       "\n",
       "    .dataframe tbody tr th {\n",
       "        vertical-align: top;\n",
       "    }\n",
       "\n",
       "    .dataframe thead th {\n",
       "        text-align: right;\n",
       "    }\n",
       "</style>\n",
       "<table border=\"1\" class=\"dataframe\">\n",
       "  <thead>\n",
       "    <tr style=\"text-align: right;\">\n",
       "      <th></th>\n",
       "      <th>X</th>\n",
       "      <th>y</th>\n",
       "    </tr>\n",
       "  </thead>\n",
       "  <tbody>\n",
       "    <tr>\n",
       "      <th>0</th>\n",
       "      <td>0.934014</td>\n",
       "      <td>-0.458188</td>\n",
       "    </tr>\n",
       "    <tr>\n",
       "      <th>1</th>\n",
       "      <td>0.231782</td>\n",
       "      <td>0.985847</td>\n",
       "    </tr>\n",
       "    <tr>\n",
       "      <th>2</th>\n",
       "      <td>0.621233</td>\n",
       "      <td>-0.905536</td>\n",
       "    </tr>\n",
       "    <tr>\n",
       "      <th>3</th>\n",
       "      <td>0.106083</td>\n",
       "      <td>0.632247</td>\n",
       "    </tr>\n",
       "    <tr>\n",
       "      <th>4</th>\n",
       "      <td>0.065292</td>\n",
       "      <td>0.421476</td>\n",
       "    </tr>\n",
       "    <tr>\n",
       "      <th>...</th>\n",
       "      <td>...</td>\n",
       "      <td>...</td>\n",
       "    </tr>\n",
       "    <tr>\n",
       "      <th>95</th>\n",
       "      <td>0.920695</td>\n",
       "      <td>-0.663882</td>\n",
       "    </tr>\n",
       "    <tr>\n",
       "      <th>96</th>\n",
       "      <td>0.046071</td>\n",
       "      <td>0.397638</td>\n",
       "    </tr>\n",
       "    <tr>\n",
       "      <th>97</th>\n",
       "      <td>0.591143</td>\n",
       "      <td>-0.684444</td>\n",
       "    </tr>\n",
       "    <tr>\n",
       "      <th>98</th>\n",
       "      <td>0.576851</td>\n",
       "      <td>-0.508457</td>\n",
       "    </tr>\n",
       "    <tr>\n",
       "      <th>99</th>\n",
       "      <td>0.551398</td>\n",
       "      <td>-0.274164</td>\n",
       "    </tr>\n",
       "  </tbody>\n",
       "</table>\n",
       "<p>100 rows × 2 columns</p>\n",
       "</div>"
      ],
      "text/plain": [
       "           X         y\n",
       "0   0.934014 -0.458188\n",
       "1   0.231782  0.985847\n",
       "2   0.621233 -0.905536\n",
       "3   0.106083  0.632247\n",
       "4   0.065292  0.421476\n",
       "..       ...       ...\n",
       "95  0.920695 -0.663882\n",
       "96  0.046071  0.397638\n",
       "97  0.591143 -0.684444\n",
       "98  0.576851 -0.508457\n",
       "99  0.551398 -0.274164\n",
       "\n",
       "[100 rows x 2 columns]"
      ]
     },
     "execution_count": 10,
     "metadata": {},
     "output_type": "execute_result"
    }
   ],
   "source": [
    "import pandas as pd\n",
    "df = pd.DataFrame(np.column_stack((real_X,real_y)))\n",
    "df.columns=['X','y']\n",
    "df"
   ]
  },
  {
   "cell_type": "code",
   "execution_count": 12,
   "id": "68ae1e20-b217-47c5-92ec-e9d25161bd94",
   "metadata": {},
   "outputs": [
    {
     "data": {
      "text/plain": [
       "<matplotlib.collections.PathCollection at 0x7fbee9f05250>"
      ]
     },
     "execution_count": 12,
     "metadata": {},
     "output_type": "execute_result"
    },
    {
     "data": {
      "image/png": "[encoded data removed]",
      "text/plain": [
       "<Figure size 432x288 with 1 Axes>"
      ]
     },
     "metadata": {
      "needs_background": "light"
     },
     "output_type": "display_data"
    }
   ],
   "source": [
    "sample=df.sample(20) # observation 중에 20개를 무작위로 추출\n",
    "plt.scatter(real_X, real_y)\n",
    "plt.scatter(sample['X'], sample['y'])"
   ]
  },
  {
   "cell_type": "code",
   "execution_count": 13,
   "id": "d1c3a402-fab7-42f1-87e0-62dc99b1e9a3",
   "metadata": {},
   "outputs": [],
   "source": [
    "sample = sample.sort_values(by=['X'])\n",
    "X=sample['X']\n",
    "y=sample['y']"
   ]
  },
  {
   "cell_type": "code",
   "execution_count": 16,
   "id": "e96045c9-4677-43ad-b379-46bc6554f42f",
   "metadata": {},
   "outputs": [
    {
     "data": {
      "text/plain": [
       "51    0.083450\n",
       "69    0.100147\n",
       "3     0.106083\n",
       "25    0.318436\n",
       "74    0.374406\n",
       "34    0.410765\n",
       "53    0.419133\n",
       "11    0.466366\n",
       "92    0.494318\n",
       "81    0.512781\n",
       "99    0.551398\n",
       "50    0.575709\n",
       "2     0.621233\n",
       "44    0.636487\n",
       "47    0.652095\n",
       "8     0.692009\n",
       "37    0.697405\n",
       "49    0.777647\n",
       "95    0.920695\n",
       "9     0.994671\n",
       "Name: X, dtype: float64"
      ]
     },
     "execution_count": 16,
     "metadata": {},
     "output_type": "execute_result"
    }
   ],
   "source": [
    "X"
   ]
  },
  {
   "cell_type": "markdown",
   "id": "96a1bdcd-d21b-4edb-baf8-7e12e6f8286a",
   "metadata": {},
   "source": [
    "## 1차회귀"
   ]
  },
  {
   "cell_type": "code",
   "execution_count": 17,
   "id": "09e1fd2c-0615-48b6-9685-8a731c885d0f",
   "metadata": {},
   "outputs": [],
   "source": [
    "from sklearn.linear_model import LinearRegression\n",
    "reg = LinearRegression()"
   ]
  },
  {
   "cell_type": "code",
   "execution_count": 18,
   "id": "52ad6d36-e6d9-4007-8e3d-a17fc95a05b2",
   "metadata": {},
   "outputs": [
    {
     "data": {
      "text/plain": [
       "LinearRegression()"
      ]
     },
     "execution_count": 18,
     "metadata": {},
     "output_type": "execute_result"
    }
   ],
   "source": [
    "X=np.array(X).reshape(-1,1) # 1차원 벡터인 경우 2차원 벡터로 reshape 필요\n",
    "reg.fit(X,y)"
   ]
  },
  {
   "cell_type": "code",
   "execution_count": 19,
   "id": "ad4710f7-454e-44ab-afd9-9fd45ed31c69",
   "metadata": {},
   "outputs": [],
   "source": [
    "y_pred = reg.predict(X)"
   ]
  },
  {
   "cell_type": "code",
   "execution_count": 20,
   "id": "b0a9fcde-2f8d-464a-b7c2-40be7f3cd27a",
   "metadata": {},
   "outputs": [
    {
     "data": {
      "text/plain": [
       "[<matplotlib.lines.Line2D at 0x7fbeea7fb430>]"
      ]
     },
     "execution_count": 20,
     "metadata": {},
     "output_type": "execute_result"
    },
    {
     "data": {
      "image/png": "[encoded data removed]",
      "text/plain": [
       "<Figure size 432x288 with 1 Axes>"
      ]
     },
     "metadata": {
      "needs_background": "light"
     },
     "output_type": "display_data"
    }
   ],
   "source": [
    "plt.scatter(real_X, real_y)\n",
    "plt.scatter(X, y)\n",
    "plt.plot(X, y_pred, color='red') # 1차 회귀식"
   ]
  },
  {
   "cell_type": "code",
   "execution_count": 21,
   "id": "e23e5265-8a55-4afc-bc8b-6c2bd7160d09",
   "metadata": {},
   "outputs": [],
   "source": [
    "from sklearn.metrics import mean_squared_error, r2_score"
   ]
  },
  {
   "cell_type": "code",
   "execution_count": 24,
   "id": "2944d9f0-babe-4bec-ab7d-2335bfd6ac3f",
   "metadata": {},
   "outputs": [
    {
     "data": {
      "text/plain": [
       "0.2048971071795526"
      ]
     },
     "execution_count": 24,
     "metadata": {},
     "output_type": "execute_result"
    }
   ],
   "source": [
    "mean_squared_error(y, y_pred)"
   ]
  },
  {
   "cell_type": "code",
   "execution_count": 23,
   "id": "883231e5",
   "metadata": {},
   "outputs": [
    {
     "data": {
      "text/plain": [
       "0.5600852951643249"
      ]
     },
     "execution_count": 23,
     "metadata": {},
     "output_type": "execute_result"
    }
   ],
   "source": [
    "r2_score(y, y_pred)"
   ]
  },
  {
   "cell_type": "markdown",
   "id": "487d43a5-471a-4421-9548-b2aa8a316868",
   "metadata": {},
   "source": [
    "## 2차항이 포함된 식으로 변경하기"
   ]
  },
  {
   "cell_type": "code",
   "execution_count": 25,
   "id": "03aaafc0-ab98-4001-9899-4331f68318df",
   "metadata": {},
   "outputs": [
    {
     "data": {
      "text/plain": [
       "array([[0.08345017, 0.00696393],\n",
       "       [0.10014742, 0.01002951],\n",
       "       [0.10608347, 0.0112537 ],\n",
       "       [0.31843641, 0.10140175],\n",
       "       [0.37440551, 0.14017948],\n",
       "       [0.41076466, 0.1687276 ],\n",
       "       [0.41913295, 0.17567243],\n",
       "       [0.46636556, 0.21749683],\n",
       "       [0.49431817, 0.24435046],\n",
       "       [0.51278068, 0.26294403],\n",
       "       [0.55139757, 0.30403928],\n",
       "       [0.57570924, 0.33144113],\n",
       "       [0.62123324, 0.38593073],\n",
       "       [0.63648712, 0.40511585],\n",
       "       [0.65209471, 0.42522751],\n",
       "       [0.69200902, 0.47887649],\n",
       "       [0.697405  , 0.48637373],\n",
       "       [0.77764716, 0.6047351 ],\n",
       "       [0.92069504, 0.84767935],\n",
       "       [0.99467129, 0.98937098]])"
      ]
     },
     "execution_count": 25,
     "metadata": {},
     "output_type": "execute_result"
    }
   ],
   "source": [
    "from sklearn.preprocessing import PolynomialFeatures # PolynomialFeatures : 주어진 데이터에 n차 제곱항을 제공 \n",
    "poly = PolynomialFeatures(degree=2,include_bias=False) # degree : 차수 설정\n",
    "X_2=poly.fit_transform(X)\n",
    "X_2"
   ]
  },
  {
   "cell_type": "code",
   "execution_count": 26,
   "id": "8996c575-6aec-4879-9529-9b8b8e617e2c",
   "metadata": {},
   "outputs": [
    {
     "data": {
      "text/plain": [
       "LinearRegression()"
      ]
     },
     "execution_count": 26,
     "metadata": {},
     "output_type": "execute_result"
    }
   ],
   "source": [
    "reg.fit(X_2, y)"
   ]
  },
  {
   "cell_type": "code",
   "execution_count": 28,
   "id": "2c8808d8-08fe-4155-934a-43dba7aaf553",
   "metadata": {},
   "outputs": [],
   "source": [
    "y_pred = reg.predict(X_2) # 2차항이 포함된 데이터로 예측"
   ]
  },
  {
   "cell_type": "code",
   "execution_count": 29,
   "id": "6d01554c-f5c4-4125-9fab-14709dd0617e",
   "metadata": {},
   "outputs": [
    {
     "data": {
      "text/plain": [
       "[<matplotlib.lines.Line2D at 0x7fbeb8db05e0>]"
      ]
     },
     "execution_count": 29,
     "metadata": {},
     "output_type": "execute_result"
    },
    {
     "data": {
      "image/png": "[encoded data removed]",
      "text/plain": [
       "<Figure size 432x288 with 1 Axes>"
      ]
     },
     "metadata": {
      "needs_background": "light"
     },
     "output_type": "display_data"
    }
   ],
   "source": [
    "plt.scatter(real_X, real_y)\n",
    "plt.scatter(X, y)\n",
    "plt.plot(X, y_pred, color='red') # 2차 회귀식"
   ]
  },
  {
   "cell_type": "code",
   "execution_count": 30,
   "id": "f9f02781-7bb0-473d-8cd7-3637578d6113",
   "metadata": {},
   "outputs": [
    {
     "data": {
      "text/plain": [
       "0.19676023069701368"
      ]
     },
     "execution_count": 30,
     "metadata": {},
     "output_type": "execute_result"
    }
   ],
   "source": [
    "mean_squared_error(y, y_pred)"
   ]
  },
  {
   "cell_type": "markdown",
   "id": "24eabd16-4701-4a82-839a-03abcbd7a05f",
   "metadata": {},
   "source": [
    "## 3차식"
   ]
  },
  {
   "cell_type": "code",
   "execution_count": 31,
   "id": "69f7e413-5732-4126-97ac-87d19d1cc067",
   "metadata": {},
   "outputs": [],
   "source": [
    "poly = PolynomialFeatures(degree=3,include_bias=False)\n",
    "X_temp=poly.fit_transform(X)"
   ]
  },
  {
   "cell_type": "code",
   "execution_count": 32,
   "id": "311813a6",
   "metadata": {},
   "outputs": [],
   "source": [
    "reg.fit(X_temp,y)\n",
    "y_pred = reg.predict(X_temp)"
   ]
  },
  {
   "cell_type": "code",
   "execution_count": 33,
   "id": "7ad7ff72-9330-4205-96da-71f886563cd7",
   "metadata": {},
   "outputs": [
    {
     "data": {
      "text/plain": [
       "[<matplotlib.lines.Line2D at 0x7fbef8dd2a30>]"
      ]
     },
     "execution_count": 33,
     "metadata": {},
     "output_type": "execute_result"
    },
    {
     "data": {
      "image/png": "[encoded data removed]",
      "text/plain": [
       "<Figure size 432x288 with 1 Axes>"
      ]
     },
     "metadata": {
      "needs_background": "light"
     },
     "output_type": "display_data"
    }
   ],
   "source": [
    "plt.scatter(real_X,real_y)\n",
    "plt.scatter(X,y)\n",
    "plt.plot(X,y_pred,color='red')"
   ]
  },
  {
   "cell_type": "code",
   "execution_count": 34,
   "id": "4556d58d",
   "metadata": {},
   "outputs": [
    {
     "data": {
      "text/plain": [
       "0.016833448401862315"
      ]
     },
     "execution_count": 34,
     "metadata": {},
     "output_type": "execute_result"
    }
   ],
   "source": [
    "mean_squared_error(y,y_pred)"
   ]
  },
  {
   "cell_type": "markdown",
   "id": "a4cee52a-379c-4f30-b1b5-61d478edf626",
   "metadata": {},
   "source": [
    "## 8차식"
   ]
  },
  {
   "cell_type": "code",
   "execution_count": 37,
   "id": "40b016d8-e281-4736-8cfe-42ed5d6c672d",
   "metadata": {},
   "outputs": [],
   "source": [
    "poly = PolynomialFeatures(degree=8,include_bias=False)\n",
    "X_temp = poly.fit_transform(X)\n"
   ]
  },
  {
   "cell_type": "code",
   "execution_count": 38,
   "id": "c0230f13",
   "metadata": {},
   "outputs": [],
   "source": [
    "reg.fit(X_temp,y)\n",
    "y_pred=reg.predict(X_temp)"
   ]
  },
  {
   "cell_type": "code",
   "execution_count": 39,
   "id": "98e3cf92",
   "metadata": {},
   "outputs": [
    {
     "data": {
      "text/plain": [
       "0.013076112604236526"
      ]
     },
     "execution_count": 39,
     "metadata": {},
     "output_type": "execute_result"
    }
   ],
   "source": [
    "mean_squared_error(y,y_pred)"
   ]
  },
  {
   "cell_type": "code",
   "execution_count": 40,
   "id": "b9da12b2-0904-4bf6-ba60-9ae18c67ef3e",
   "metadata": {},
   "outputs": [
    {
     "data": {
      "text/plain": [
       "[<matplotlib.lines.Line2D at 0x7fbea8e24d00>]"
      ]
     },
     "execution_count": 40,
     "metadata": {},
     "output_type": "execute_result"
    },
    {
     "data": {
      "image/png": "[encoded data removed]",
      "text/plain": [
       "<Figure size 432x288 with 1 Axes>"
      ]
     },
     "metadata": {
      "needs_background": "light"
     },
     "output_type": "display_data"
    }
   ],
   "source": [
    "plt.scatter(real_X,real_y)\n",
    "plt.scatter(X,y)\n",
    "plt.plot(X,y_pred,color='red')"
   ]
  },
  {
   "cell_type": "markdown",
   "id": "562a468d-7dad-4ab0-b5f6-0eac18fd7015",
   "metadata": {},
   "source": [
    "## 10차식"
   ]
  },
  {
   "cell_type": "code",
   "execution_count": 45,
   "id": "ddc652c7-ef9c-4185-88d6-a92aac6924f4",
   "metadata": {},
   "outputs": [
    {
     "data": {
      "text/plain": [
       "0.010213806525663642"
      ]
     },
     "execution_count": 45,
     "metadata": {},
     "output_type": "execute_result"
    }
   ],
   "source": [
    "poly = PolynomialFeatures(degree=10, include_bias=False)\n",
    "X_temp=poly.fit_transform(X)\n",
    "reg.fit(X_temp,y)\n",
    "y_pred=reg.predict(X_temp)\n",
    "mean_squared_error(y,y_pred)"
   ]
  },
  {
   "cell_type": "code",
   "execution_count": 46,
   "id": "a3892ebb-99e7-45dc-afda-0736d21cd65b",
   "metadata": {},
   "outputs": [
    {
     "data": {
      "text/plain": [
       "[<matplotlib.lines.Line2D at 0x7fbef8f987c0>]"
      ]
     },
     "execution_count": 46,
     "metadata": {},
     "output_type": "execute_result"
    },
    {
     "data": {
      "image/png": "[encoded data removed]",
      "text/plain": [
       "<Figure size 432x288 with 1 Axes>"
      ]
     },
     "metadata": {
      "needs_background": "light"
     },
     "output_type": "display_data"
    }
   ],
   "source": [
    "plt.scatter(real_X,real_y)\n",
    "plt.scatter(X,y)\n",
    "plt.plot(X,y_pred,color='red')"
   ]
  },
  {
   "cell_type": "markdown",
   "id": "f61f1734-003a-4975-8496-439034b941ce",
   "metadata": {},
   "source": [
    "## 유연성이 좋은 모델이 반드시 좋은가?"
   ]
  },
  {
   "cell_type": "code",
   "execution_count": 47,
   "id": "f3ab9bbb-a026-44c2-8089-d278e872c0f9",
   "metadata": {},
   "outputs": [],
   "source": [
    "true_mse = []\n",
    "train_mse = []\n",
    "for i in range(1,8): # 1차식부터 7차식까지\n",
    "    # 데이터 샘플 추출\n",
    "    sample=df.sample(20)\n",
    "    sample=sample.sort_values(by=['X'])\n",
    "    X=sample['X']\n",
    "    y=sample['y']\n",
    "    # 샘플 데이터로 학습\n",
    "    X=np.array(X).reshape(-1,1)    \n",
    "    poly = PolynomialFeatures(degree=i,include_bias=False)\n",
    "    X_temp = poly.fit_transform(X)\n",
    "    reg.fit(X_temp,y)\n",
    "    # 학습된 샘플 데이터로 예측\n",
    "    y_pred=reg.predict(X_temp)\n",
    "    # 학습된 데이터를 얼마나 잘 맞추는지 측정\n",
    "    train_mse.append(mean_squared_error(y,y_pred))\n",
    "    # 실제 전체 데이터로 예측, 정확도 측정\n",
    "    real_X_transformed =  poly.fit_transform(real_X.reshape(-1,1))\n",
    "    true_mse.append(mean_squared_error(real_y,reg.predict(real_X_transformed)))"
   ]
  },
  {
   "cell_type": "code",
   "execution_count": 48,
   "id": "4dd63dd0-d84a-4384-a814-d8d9abe7bc17",
   "metadata": {},
   "outputs": [
    {
     "data": {
      "text/plain": [
       "<matplotlib.legend.Legend at 0x7fbeb8f02610>"
      ]
     },
     "execution_count": 48,
     "metadata": {},
     "output_type": "execute_result"
    },
    {
     "data": {
      "image/png": "[encoded data removed]",
      "text/plain": [
       "<Figure size 432x288 with 1 Axes>"
      ]
     },
     "metadata": {
      "needs_background": "light"
     },
     "output_type": "display_data"
    }
   ],
   "source": [
    "plt.plot(train_mse,label='train')\n",
    "plt.plot(true_mse,label='real')\n",
    "plt.legend()"
   ]
  }
 ],
 "metadata": {
  "kernelspec": {
   "display_name": "Python 3 (ipykernel)",
   "language": "python",
   "name": "python3"
  },
  "language_info": {
   "codemirror_mode": {
    "name": "ipython",
    "version": 3
   },
   "file_extension": ".py",
   "mimetype": "text/x-python",
   "name": "python",
   "nbconvert_exporter": "python",
   "pygments_lexer": "ipython3",
   "version": "3.8.12"
  }
 },
 "nbformat": 4,
 "nbformat_minor": 5
}
