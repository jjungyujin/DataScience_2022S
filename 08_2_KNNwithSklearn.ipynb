{
 "cells": [
  {
   "cell_type": "markdown",
   "id": "a17bcf40-c5e6-4c6e-b109-7695d227182d",
   "metadata": {},
   "source": [
    "## 8_2 KNN using SKLEARN"
   ]
  },
  {
   "cell_type": "code",
   "execution_count": 1,
   "id": "816a6ffe-ed84-47c0-a746-857226409818",
   "metadata": {},
   "outputs": [],
   "source": [
    "import pandas as pd\n",
    "df=pd.read_csv('data/auto.csv')"
   ]
  },
  {
   "cell_type": "code",
   "execution_count": 2,
   "id": "103039fd-e441-440e-8b58-51a08358843d",
   "metadata": {},
   "outputs": [
    {
     "data": {
      "text/html": [
       "<div>\n",
       "<style scoped>\n",
       "    .dataframe tbody tr th:only-of-type {\n",
       "        vertical-align: middle;\n",
       "    }\n",
       "\n",
       "    .dataframe tbody tr th {\n",
       "        vertical-align: top;\n",
       "    }\n",
       "\n",
       "    .dataframe thead th {\n",
       "        text-align: right;\n",
       "    }\n",
       "</style>\n",
       "<table border=\"1\" class=\"dataframe\">\n",
       "  <thead>\n",
       "    <tr style=\"text-align: right;\">\n",
       "      <th></th>\n",
       "      <th>cylinders</th>\n",
       "      <th>displacement</th>\n",
       "      <th>horsepower</th>\n",
       "      <th>weight</th>\n",
       "      <th>acceleration</th>\n",
       "      <th>model_year</th>\n",
       "      <th>origin</th>\n",
       "      <th>mpg</th>\n",
       "    </tr>\n",
       "  </thead>\n",
       "  <tbody>\n",
       "    <tr>\n",
       "      <th>0</th>\n",
       "      <td>8</td>\n",
       "      <td>307.0</td>\n",
       "      <td>130.0</td>\n",
       "      <td>3504.0</td>\n",
       "      <td>12.0</td>\n",
       "      <td>70</td>\n",
       "      <td>1</td>\n",
       "      <td>18.0</td>\n",
       "    </tr>\n",
       "    <tr>\n",
       "      <th>1</th>\n",
       "      <td>8</td>\n",
       "      <td>350.0</td>\n",
       "      <td>165.0</td>\n",
       "      <td>3693.0</td>\n",
       "      <td>11.5</td>\n",
       "      <td>70</td>\n",
       "      <td>1</td>\n",
       "      <td>15.0</td>\n",
       "    </tr>\n",
       "    <tr>\n",
       "      <th>2</th>\n",
       "      <td>8</td>\n",
       "      <td>318.0</td>\n",
       "      <td>150.0</td>\n",
       "      <td>3436.0</td>\n",
       "      <td>11.0</td>\n",
       "      <td>70</td>\n",
       "      <td>1</td>\n",
       "      <td>18.0</td>\n",
       "    </tr>\n",
       "    <tr>\n",
       "      <th>3</th>\n",
       "      <td>8</td>\n",
       "      <td>304.0</td>\n",
       "      <td>150.0</td>\n",
       "      <td>3433.0</td>\n",
       "      <td>12.0</td>\n",
       "      <td>70</td>\n",
       "      <td>1</td>\n",
       "      <td>16.0</td>\n",
       "    </tr>\n",
       "    <tr>\n",
       "      <th>4</th>\n",
       "      <td>8</td>\n",
       "      <td>302.0</td>\n",
       "      <td>140.0</td>\n",
       "      <td>3449.0</td>\n",
       "      <td>10.5</td>\n",
       "      <td>70</td>\n",
       "      <td>1</td>\n",
       "      <td>17.0</td>\n",
       "    </tr>\n",
       "    <tr>\n",
       "      <th>...</th>\n",
       "      <td>...</td>\n",
       "      <td>...</td>\n",
       "      <td>...</td>\n",
       "      <td>...</td>\n",
       "      <td>...</td>\n",
       "      <td>...</td>\n",
       "      <td>...</td>\n",
       "      <td>...</td>\n",
       "    </tr>\n",
       "    <tr>\n",
       "      <th>387</th>\n",
       "      <td>4</td>\n",
       "      <td>140.0</td>\n",
       "      <td>86.0</td>\n",
       "      <td>2790.0</td>\n",
       "      <td>15.6</td>\n",
       "      <td>82</td>\n",
       "      <td>1</td>\n",
       "      <td>27.0</td>\n",
       "    </tr>\n",
       "    <tr>\n",
       "      <th>388</th>\n",
       "      <td>4</td>\n",
       "      <td>97.0</td>\n",
       "      <td>52.0</td>\n",
       "      <td>2130.0</td>\n",
       "      <td>24.6</td>\n",
       "      <td>82</td>\n",
       "      <td>2</td>\n",
       "      <td>44.0</td>\n",
       "    </tr>\n",
       "    <tr>\n",
       "      <th>389</th>\n",
       "      <td>4</td>\n",
       "      <td>135.0</td>\n",
       "      <td>84.0</td>\n",
       "      <td>2295.0</td>\n",
       "      <td>11.6</td>\n",
       "      <td>82</td>\n",
       "      <td>1</td>\n",
       "      <td>32.0</td>\n",
       "    </tr>\n",
       "    <tr>\n",
       "      <th>390</th>\n",
       "      <td>4</td>\n",
       "      <td>120.0</td>\n",
       "      <td>79.0</td>\n",
       "      <td>2625.0</td>\n",
       "      <td>18.6</td>\n",
       "      <td>82</td>\n",
       "      <td>1</td>\n",
       "      <td>28.0</td>\n",
       "    </tr>\n",
       "    <tr>\n",
       "      <th>391</th>\n",
       "      <td>4</td>\n",
       "      <td>119.0</td>\n",
       "      <td>82.0</td>\n",
       "      <td>2720.0</td>\n",
       "      <td>19.4</td>\n",
       "      <td>82</td>\n",
       "      <td>1</td>\n",
       "      <td>31.0</td>\n",
       "    </tr>\n",
       "  </tbody>\n",
       "</table>\n",
       "<p>392 rows × 8 columns</p>\n",
       "</div>"
      ],
      "text/plain": [
       "     cylinders  displacement  horsepower  weight  acceleration  model_year  \\\n",
       "0            8         307.0       130.0  3504.0          12.0          70   \n",
       "1            8         350.0       165.0  3693.0          11.5          70   \n",
       "2            8         318.0       150.0  3436.0          11.0          70   \n",
       "3            8         304.0       150.0  3433.0          12.0          70   \n",
       "4            8         302.0       140.0  3449.0          10.5          70   \n",
       "..         ...           ...         ...     ...           ...         ...   \n",
       "387          4         140.0        86.0  2790.0          15.6          82   \n",
       "388          4          97.0        52.0  2130.0          24.6          82   \n",
       "389          4         135.0        84.0  2295.0          11.6          82   \n",
       "390          4         120.0        79.0  2625.0          18.6          82   \n",
       "391          4         119.0        82.0  2720.0          19.4          82   \n",
       "\n",
       "     origin   mpg  \n",
       "0         1  18.0  \n",
       "1         1  15.0  \n",
       "2         1  18.0  \n",
       "3         1  16.0  \n",
       "4         1  17.0  \n",
       "..      ...   ...  \n",
       "387       1  27.0  \n",
       "388       2  44.0  \n",
       "389       1  32.0  \n",
       "390       1  28.0  \n",
       "391       1  31.0  \n",
       "\n",
       "[392 rows x 8 columns]"
      ]
     },
     "execution_count": 2,
     "metadata": {},
     "output_type": "execute_result"
    }
   ],
   "source": [
    "df"
   ]
  },
  {
   "cell_type": "markdown",
   "id": "6cf4c6af-6567-496f-8817-7d11eb4d4747",
   "metadata": {},
   "source": [
    "## 데이터 나누기"
   ]
  },
  {
   "cell_type": "code",
   "execution_count": 3,
   "id": "04a80614-b450-4c9e-8c56-d2a729fdf501",
   "metadata": {
    "tags": []
   },
   "outputs": [],
   "source": [
    "df=pd.get_dummies(df,columns=['origin'])\n",
    "y=df['mpg']\n",
    "X=df.drop(columns=['mpg'])"
   ]
  },
  {
   "cell_type": "code",
   "execution_count": 5,
   "id": "a2ce39e3-e3e5-4f4a-9e46-c16cc6f84e45",
   "metadata": {},
   "outputs": [
    {
     "name": "stdout",
     "output_type": "stream",
     "text": [
      "2 0.6798878937802053 -19.16882781564427\n",
      "3 0.6817624253074035 -18.991399221032133\n",
      "4 0.7110786321745438 -17.372436445147677\n",
      "5 0.7098865759713967 -17.354369607270367\n",
      "6 0.7180220472757654 -16.788325994446247\n",
      "7 0.7017034981303916 -18.096152998297665\n",
      "8 0.7165594788647291 -17.045986616561184\n",
      "9 0.7133295918378817 -17.47530524000144\n",
      "10 0.7145578507818648 -17.250155952612786\n",
      "11 0.7145918721427356 -17.158376434076086\n",
      "12 0.7116359712058777 -17.433807108532584\n",
      "13 0.7063647942714589 -17.42781558089378\n",
      "14 0.7038555108695956 -17.8812429621313\n",
      "15 0.7073744160737873 -17.53725322081575\n",
      "16 0.7124012354848022 -17.50950096356702\n",
      "17 0.7094801569044978 -17.744445442487667\n",
      "18 0.7175176510814245 -17.21402108402355\n",
      "19 0.7017505930804816 -17.85009898124597\n",
      "20 0.6985091850194657 -17.836558765822783\n",
      "21 0.6969758716300888 -17.954749471745853\n",
      "22 0.6776584123626732 -18.48262473813107\n",
      "23 0.7035155698248758 -17.83087858016295\n",
      "24 0.7061321496415459 -17.671357887951245\n",
      "25 0.7048071921975936 -17.497675263356054\n",
      "26 0.6885624977804768 -18.472368102168478\n",
      "27 0.7128620041969891 -17.60602555376129\n",
      "28 0.7144467040242507 -17.27308275747008\n",
      "29 0.7049724891281162 -17.60298068326412\n"
     ]
    }
   ],
   "source": [
    "from sklearn.neighbors import KNeighborsRegressor\n",
    "from sklearn.model_selection import KFold, cross_validate\n",
    "\n",
    "kfold=KFold(n_splits=5, shuffle=True)\n",
    "for i in range(2,30):\n",
    "    knn = KNeighborsRegressor(n_neighbors=i)\n",
    "    knn.fit(X,y)\n",
    "    result=cross_validate(X=X,y=y,cv=kfold,scoring=['r2','neg_mean_squared_error'],estimator=knn)\n",
    "    print(i, result['test_r2'].mean(), result['test_neg_mean_squared_error'].mean())\n",
    "\n",
    "# df에서 값의 범위가 큰 weight에 영향을 많이 받아 성능이 좋지 않게 나옴\n",
    "# 데이터 정규화 과정 필요"
   ]
  },
  {
   "cell_type": "markdown",
   "id": "270453a9-c4a6-48cf-9ed6-9caa866b6ba5",
   "metadata": {},
   "source": [
    "## 데이터 정규화"
   ]
  },
  {
   "cell_type": "code",
   "execution_count": 6,
   "id": "94b21be3-f3a9-4608-98bf-8239d7e1748b",
   "metadata": {},
   "outputs": [],
   "source": [
    "X_norm = (X-X.mean())/X.std()"
   ]
  },
  {
   "cell_type": "code",
   "execution_count": 7,
   "id": "9bea8ca2-bf14-490b-abb4-a9de42cec99f",
   "metadata": {},
   "outputs": [
    {
     "name": "stdout",
     "output_type": "stream",
     "text": [
      "2 0.820809616284879 -10.737173320350536\n",
      "3 0.8477683269687173 -9.196088102708355\n",
      "4 0.8521715733165939 -8.900400174456347\n",
      "5 0.854239893988975 -8.882330165530671\n",
      "6 0.8612471868168022 -8.377255634894876\n",
      "7 0.8509192302896107 -9.105662679093061\n",
      "8 0.8455969060836809 -9.23613867758033\n",
      "9 0.8420913209353594 -9.685817190987374\n",
      "10 0.8438728020598838 -9.486723203505354\n",
      "11 0.8319779059508612 -10.185469856572274\n",
      "12 0.8255966831556014 -10.388603037433734\n",
      "13 0.8169648108064633 -10.896547063602267\n",
      "14 0.8124092585059957 -11.20648810682988\n",
      "15 0.8153784697108272 -11.212610266507989\n",
      "16 0.8018618843265323 -12.05155750086214\n",
      "17 0.8100810548924985 -11.386417034194398\n",
      "18 0.797815069613256 -12.1925617544408\n",
      "19 0.8040308850450166 -11.959053508187527\n",
      "20 0.795795110646435 -12.370379974034405\n",
      "21 0.7907052367239453 -12.444846799306115\n",
      "22 0.7916162168637146 -12.54637002247848\n",
      "23 0.7901614084824795 -12.633961213584817\n",
      "24 0.791773823434727 -12.627130919457068\n",
      "25 0.7876016851158336 -12.85124880908796\n",
      "26 0.7742583125219502 -13.492347479013386\n",
      "27 0.7802501484610377 -13.235599365374489\n",
      "28 0.7812730040280342 -13.166021530082332\n",
      "29 0.7721753138851953 -13.730728275522447\n"
     ]
    }
   ],
   "source": [
    "from sklearn.model_selection import KFold, cross_validate\n",
    "kfold=KFold(n_splits=5, shuffle=True)\n",
    "train_mse=[]\n",
    "test_mse=[]\n",
    "for i in range(2,30):\n",
    "    knn = KNeighborsRegressor(n_neighbors=i)\n",
    "    knn.fit(X,y)\n",
    "    result=cross_validate(X=X_norm,y=y,\n",
    "                          cv=kfold,scoring=['r2','neg_mean_squared_error'],\n",
    "                          estimator=knn,\n",
    "                          return_train_score=True)\n",
    "    print(i, result['test_r2'].mean(), result['test_neg_mean_squared_error'].mean())\n",
    "    # train과 test의 mean_squared_error 기록\n",
    "    train_mse.append(-1*result['train_neg_mean_squared_error'].mean())\n",
    "    test_mse.append(-1*result['test_neg_mean_squared_error'].mean())\n",
    "    "
   ]
  },
  {
   "cell_type": "markdown",
   "id": "6c64dac2-f2bb-44f1-8a4c-cf0c0b38fe19",
   "metadata": {},
   "source": [
    "## 하이퍼 패러미터의 영향"
   ]
  },
  {
   "cell_type": "code",
   "execution_count": 9,
   "id": "8455deb6-ed2b-441a-88e3-4211891d5647",
   "metadata": {},
   "outputs": [
    {
     "data": {
      "text/plain": [
       "<matplotlib.legend.Legend at 0x7f8b483dc9d0>"
      ]
     },
     "execution_count": 9,
     "metadata": {},
     "output_type": "execute_result"
    },
    {
     "data": {
      "image/png": "[encoded data removed]",
      "text/plain": [
       "<Figure size 864x576 with 1 Axes>"
      ]
     },
     "metadata": {
      "needs_background": "light"
     },
     "output_type": "display_data"
    }
   ],
   "source": [
    "import matplotlib.pyplot as plt\n",
    "plt.figure(figsize=(12,8))\n",
    "plt.plot(train_mse, label='train')\n",
    "plt.plot(test_mse, label='test')\n",
    "plt.legend()\n",
    "# k가 클수록 모델의 유연성이 높아짐\n"
   ]
  },
  {
   "cell_type": "markdown",
   "id": "3f7ddccb-fd60-454f-a2b6-b85ada09e386",
   "metadata": {},
   "source": [
    "## MinMax Scaling"
   ]
  },
  {
   "cell_type": "code",
   "execution_count": 10,
   "id": "a12f8547-8ca1-4ba1-9232-cd6186f82442",
   "metadata": {},
   "outputs": [],
   "source": [
    "X_scale = (X-X.min())/(X.max()-X.min())"
   ]
  },
  {
   "cell_type": "code",
   "execution_count": 11,
   "id": "5ef95268-d03f-4fda-b9c5-4cabb84f7df8",
   "metadata": {},
   "outputs": [
    {
     "name": "stdout",
     "output_type": "stream",
     "text": [
      "2 0.8472354619911412 -9.076581304771178\n",
      "3 0.8460052661932241 -9.187925204659383\n",
      "4 0.8719390703798464 -7.7566063980850375\n",
      "5 0.858002907912528 -8.366095501460565\n",
      "6 0.8506962877656076 -8.993499720509215\n",
      "7 0.8518702534157482 -8.905492783286636\n",
      "8 0.8505341719180974 -8.94705171312074\n",
      "9 0.8488699197878464 -9.100118319769516\n",
      "10 0.8413752170686338 -9.550880272638754\n",
      "11 0.8352885125626741 -9.925289199868027\n",
      "12 0.8320018525348288 -10.259638746889541\n",
      "13 0.8264905069592198 -10.309627211252781\n",
      "14 0.8201587351434462 -10.513224622273446\n",
      "15 0.8129373796593283 -11.140570970464136\n",
      "16 0.8199866463180008 -10.800495628448555\n",
      "17 0.8186658961163319 -10.971350114385638\n",
      "18 0.8055670721394002 -11.808793836977733\n",
      "19 0.796601952998313 -12.30055037981876\n",
      "20 0.7981163902873034 -12.30157773369036\n",
      "21 0.7991433445195595 -12.129386510549262\n",
      "22 0.7891096468310586 -12.69571831821803\n",
      "23 0.7752398310397794 -13.332477077937895\n",
      "24 0.780887979335495 -13.100233581606805\n",
      "25 0.7878911879238978 -12.883181825121715\n",
      "26 0.7855090304546521 -13.265418137314214\n",
      "27 0.77591262994142 -13.482350344093115\n",
      "28 0.7730560074472121 -13.83852154126013\n",
      "29 0.7667014239474389 -14.235966758403027\n"
     ]
    }
   ],
   "source": [
    "from sklearn.model_selection import KFold, cross_validate\n",
    "kfold=KFold(n_splits=5, shuffle=True)\n",
    "for i in range(2,30):\n",
    "    knn = KNeighborsRegressor(n_neighbors=i)\n",
    "    knn.fit(X_scale,y)\n",
    "    result=cross_validate(X=X_scale,y=y,cv=kfold,scoring=['r2','neg_mean_squared_error'],estimator=knn)\n",
    "    print(i, result['test_r2'].mean(), result['test_neg_mean_squared_error'].mean())"
   ]
  },
  {
   "cell_type": "code",
   "execution_count": null,
   "id": "0a7e2f4e",
   "metadata": {},
   "outputs": [],
   "source": []
  }
 ],
 "metadata": {
  "kernelspec": {
   "display_name": "Python 3 (ipykernel)",
   "language": "python",
   "name": "python3"
  },
  "language_info": {
   "codemirror_mode": {
    "name": "ipython",
    "version": 3
   },
   "file_extension": ".py",
   "mimetype": "text/x-python",
   "name": "python",
   "nbconvert_exporter": "python",
   "pygments_lexer": "ipython3",
   "version": "3.8.12"
  }
 },
 "nbformat": 4,
 "nbformat_minor": 5
}
