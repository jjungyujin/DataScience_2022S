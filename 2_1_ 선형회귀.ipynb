{
 "cells": [
  {
   "cell_type": "markdown",
   "id": "36b4c61f-63fa-4404-9e91-0f54bf27770a",
   "metadata": {
    "tags": []
   },
   "source": [
    "# 가상 데이터 만들기"
   ]
  },
  {
   "cell_type": "markdown",
   "id": "d36ddb5a-9859-4c60-8a97-9ab7681d96b9",
   "metadata": {},
   "source": [
    "우선 선형회귀의 학습원리를 알아보기 위해 가상의 데이터를 생성시켜보겠다."
   ]
  },
  {
   "cell_type": "code",
   "execution_count": 1,
   "id": "c1e3c170-6d00-4011-b31d-16a21cd9b708",
   "metadata": {},
   "outputs": [],
   "source": [
    "import numpy as np"
   ]
  },
  {
   "cell_type": "markdown",
   "id": "86e43d2a-e46b-4583-8861-3f1355813711",
   "metadata": {},
   "source": [
    "* 입력값 X는 표준편차가 1인 정규분포로부터 무작위로 50개를 생성시켰다.\n",
    "* y = 2*X-3의 관계식에 따라 데이터가 생성된다고 가정한다.\n",
    "* 실제 상황에서 위의 관계식은 알려져있지 않으며, 데이터사이언스의 목적은 숨겨져있는 위와 같은 관계식을 우리가 확보한 데이터로부터 학습하는 것이다. \n",
    "* 하지만 현재는 이러한 관계식을 알고있다고 가정한다."
   ]
  },
  {
   "cell_type": "code",
   "execution_count": 2,
   "id": "867a4c0c-47ce-4ff1-b172-71e0ba7b4e44",
   "metadata": {},
   "outputs": [],
   "source": [
    "\n",
    "# 맞추어야 하는 정답\n",
    "true_w = 2\n",
    "true_b = -3\n",
    "X = np.random.normal(1,size=50)"
   ]
  },
  {
   "cell_type": "code",
   "execution_count": 3,
   "id": "4d63dd87-3fd9-462e-ab65-ae54cecba4db",
   "metadata": {},
   "outputs": [
    {
     "data": {
      "text/plain": [
       "array([ 2.4085801 ,  1.66434523, -0.19699327,  1.95745135,  1.20661803,\n",
       "        1.10369561,  2.3781342 ,  0.39470362,  1.68103236,  0.58270772,\n",
       "       -0.40374379,  1.27380399,  0.09928011,  1.51715036,  0.59810466,\n",
       "        0.96088542,  1.59028755,  2.31111471, -0.5576742 , -0.97574464,\n",
       "       -0.62159024,  0.53022896,  2.39104426,  2.66750331,  0.33997897,\n",
       "        3.14465573,  2.36416048,  2.05729291,  1.4308217 ,  1.55517148,\n",
       "        2.0555417 ,  1.31570381, -0.59476259,  1.21021078,  3.00642358,\n",
       "        0.03791732,  1.32833462,  0.91214535,  0.54190848,  1.07421343,\n",
       "       -0.76714625,  1.50120589,  0.47793938,  1.64977984,  1.8913277 ,\n",
       "        0.41831372,  2.12260319,  0.89896559, -0.09704756,  2.67689485])"
      ]
     },
     "execution_count": 3,
     "metadata": {},
     "output_type": "execute_result"
    }
   ],
   "source": [
    "X"
   ]
  },
  {
   "cell_type": "code",
   "execution_count": 4,
   "id": "5e2b1c66-b726-4b33-b0a9-1011dc7c8b4b",
   "metadata": {},
   "outputs": [
    {
     "data": {
      "text/plain": [
       "array([ 1.81716020e+00,  3.28690461e-01, -3.39398655e+00,  9.14902708e-01,\n",
       "       -5.86763944e-01, -7.92608782e-01,  1.75626841e+00, -2.21059276e+00,\n",
       "        3.62064722e-01, -1.83458457e+00, -3.80748758e+00, -4.52392016e-01,\n",
       "       -2.80143978e+00,  3.43007230e-02, -1.80379067e+00, -1.07822917e+00,\n",
       "        1.80575106e-01,  1.62222942e+00, -4.11534840e+00, -4.95148927e+00,\n",
       "       -4.24318049e+00, -1.93954209e+00,  1.78208852e+00,  2.33500662e+00,\n",
       "       -2.32004206e+00,  3.28931146e+00,  1.72832095e+00,  1.11458582e+00,\n",
       "       -1.38356591e-01,  1.10342960e-01,  1.11108340e+00, -3.68592387e-01,\n",
       "       -4.18952518e+00, -5.79578443e-01,  3.01284717e+00, -2.92416537e+00,\n",
       "       -3.43330752e-01, -1.17570930e+00, -1.91618303e+00, -8.51573144e-01,\n",
       "       -4.53429251e+00,  2.41178194e-03, -2.04412124e+00,  2.99559689e-01,\n",
       "        7.82655405e-01, -2.16337257e+00,  1.24520638e+00, -1.20206883e+00,\n",
       "       -3.19409511e+00,  2.35378970e+00])"
      ]
     },
     "execution_count": 4,
     "metadata": {},
     "output_type": "execute_result"
    }
   ],
   "source": [
    "y = true_w*X + true_b\n",
    "y"
   ]
  },
  {
   "cell_type": "markdown",
   "id": "d3e6917c-0f14-42f5-9ddc-20863e7c720b",
   "metadata": {},
   "source": [
    "* 현재 상황에서 X와 y의 관계를 산점도로 그려보면 다음과 같은 그래프의 결과물이 출력되는 것을 확인할 수 있다. \n",
    "* X와 y의 관계식에 따라 직선 형태의 관계가 그려지는 것을 확인할 수 있다"
   ]
  },
  {
   "cell_type": "code",
   "execution_count": 10,
   "id": "b5f38c4d-1ae7-45ea-9d35-765a217791be",
   "metadata": {},
   "outputs": [
    {
     "data": {
      "text/plain": [
       "<matplotlib.collections.PathCollection at 0x7f8011356430>"
      ]
     },
     "execution_count": 10,
     "metadata": {},
     "output_type": "execute_result"
    },
    {
     "data": {
      "image/png": "[encoded data removed]",
      "text/plain": [
       "<Figure size 432x288 with 1 Axes>"
      ]
     },
     "metadata": {
      "needs_background": "light"
     },
     "output_type": "display_data"
    }
   ],
   "source": [
    "import matplotlib.pyplot as plt\n",
    "plt.scatter(X,y)"
   ]
  },
  {
   "cell_type": "markdown",
   "id": "0141be81-66e0-48b8-aacb-4c0d28b2ef2e",
   "metadata": {},
   "source": [
    "* y=2*X-3의 관계식에 추가적으로 일정부분의 noise를 추가한다. \n",
    "* noise : 관측과정에서 혹은 데이터 생성과정에서 우리가 컨트롤 할 수 없는 랜덤한 요소"
   ]
  },
  {
   "cell_type": "code",
   "execution_count": 11,
   "id": "c34a10e3-db12-4812-96db-6b36bb4a815b",
   "metadata": {},
   "outputs": [
    {
     "data": {
      "text/plain": [
       "array([ 9.53301547e-01,  2.75605863e-01, -2.65875066e-02,  3.07269871e-01,\n",
       "        1.44926069e+00, -1.98925587e+00,  2.66209816e-01, -3.24422846e-01,\n",
       "        1.00817921e+00,  8.49111756e-02,  9.12171229e-01, -7.70647784e-01,\n",
       "       -7.99518600e-01, -4.76954783e-01,  1.22032106e+00, -7.89236281e-01,\n",
       "        2.01579546e+00, -1.80130492e-01,  1.55602669e+00, -2.26597505e+00,\n",
       "        4.72334499e-01, -2.84992830e-01, -9.46285445e-01,  1.27145274e+00,\n",
       "       -1.28187279e+00, -1.76961784e+00,  1.01730055e+00, -2.19355138e-01,\n",
       "        9.46638850e-01,  8.38849703e-01,  1.65658071e-03, -9.48601636e-02,\n",
       "        1.56044707e-01,  1.57912918e+00,  9.29253009e-01,  3.67027450e-01,\n",
       "       -3.23031658e-01,  9.67730982e-01,  1.27952390e-01,  5.09262577e-02,\n",
       "       -2.88432556e-01, -1.22994182e+00, -1.37365122e+00, -6.65132979e-01,\n",
       "       -1.19060635e-01,  1.64155595e+00, -1.95141554e+00, -3.97935984e-01,\n",
       "       -1.25139959e+00,  7.41979426e-01])"
      ]
     },
     "execution_count": 11,
     "metadata": {},
     "output_type": "execute_result"
    }
   ],
   "source": [
    "noise = np.random.normal(0.1, size=50)\n",
    "noise"
   ]
  },
  {
   "cell_type": "markdown",
   "id": "e21633ca-0242-4473-9222-2d324a427412",
   "metadata": {},
   "source": [
    "* 이에따라 기존의 y에 랜덤 요소를 더하게 되면, 다음과 같은 X와 y사이의 관계를 얻을수 있다. \n",
    "* 실제 세계에서 우리는 다음과 같은 데이터를 확보할 수 있을 것이며, 우리의 목적은 주어진 데이터를 이용하여 정답 즉, y=2X-3의 관계식을 잘 추론할 수 있어야 할 것이다."
   ]
  },
  {
   "cell_type": "code",
   "execution_count": 12,
   "id": "6091f81e-1e8a-4524-ae49-5a77cf48c2a1",
   "metadata": {},
   "outputs": [],
   "source": [
    "y = y + noise"
   ]
  },
  {
   "cell_type": "code",
   "execution_count": 13,
   "id": "22d12734-5cad-4fea-8279-13b259ec70b2",
   "metadata": {},
   "outputs": [
    {
     "data": {
      "text/plain": [
       "<matplotlib.collections.PathCollection at 0x7f80094da9d0>"
      ]
     },
     "execution_count": 13,
     "metadata": {},
     "output_type": "execute_result"
    },
    {
     "data": {
      "image/png": "[encoded data removed]",
      "text/plain": [
       "<Figure size 432x288 with 1 Axes>"
      ]
     },
     "metadata": {
      "needs_background": "light"
     },
     "output_type": "display_data"
    }
   ],
   "source": [
    "plt.scatter(X,y)"
   ]
  },
  {
   "cell_type": "markdown",
   "id": "25aaf9a7-6cf0-4bdd-af27-90073edff822",
   "metadata": {},
   "source": [
    "## 선형회귀 학습하기"
   ]
  },
  {
   "cell_type": "markdown",
   "id": "33d3ad29-51cf-47e5-916d-12b1cdacafc9",
   "metadata": {},
   "source": [
    "* 파이썬에서 선형회귀 모형을 학습하기 위해서는 sklearn.linear_model안에 들어있는 LinearRegression을 사용하면 된다. \n",
    "* sklearn.linear_model 내부에는 LinearRegression과 LogisticRegression 등 선형모형에 관련된 다양한 모델들이 존재한다.\n"
   ]
  },
  {
   "cell_type": "code",
   "execution_count": 14,
   "id": "f285a52e-70dc-4e06-95a5-d15b4d80c2a3",
   "metadata": {},
   "outputs": [],
   "source": [
    "from sklearn.linear_model import LinearRegression"
   ]
  },
  {
   "cell_type": "markdown",
   "id": "276df06b-bca2-442f-b669-ce5c221c7a8c",
   "metadata": {},
   "source": [
    "* 사용법은 매우 간단하다 LinearRegression 객체를 불러서 이를 사용하면 된다.\n",
    "* 실제 사용하기 전에 sklearn에서 제공하는 LienarRegression API를 읽어보길 권장한다.\n",
    "* https://scikit-learn.org/stable/modules/generated/sklearn.linear_model.LinearRegression.html"
   ]
  },
  {
   "cell_type": "code",
   "execution_count": 15,
   "id": "350421fb-fb89-4d6a-96af-b36d5489156f",
   "metadata": {},
   "outputs": [],
   "source": [
    "reg = LinearRegression()"
   ]
  },
  {
   "cell_type": "code",
   "execution_count": 16,
   "id": "473e3a25-be57-49f3-be91-9029236ef6b1",
   "metadata": {},
   "outputs": [
    {
     "ename": "ValueError",
     "evalue": "Expected 2D array, got 1D array instead:\narray=[ 2.4085801   1.66434523 -0.19699327  1.95745135  1.20661803  1.10369561\n  2.3781342   0.39470362  1.68103236  0.58270772 -0.40374379  1.27380399\n  0.09928011  1.51715036  0.59810466  0.96088542  1.59028755  2.31111471\n -0.5576742  -0.97574464 -0.62159024  0.53022896  2.39104426  2.66750331\n  0.33997897  3.14465573  2.36416048  2.05729291  1.4308217   1.55517148\n  2.0555417   1.31570381 -0.59476259  1.21021078  3.00642358  0.03791732\n  1.32833462  0.91214535  0.54190848  1.07421343 -0.76714625  1.50120589\n  0.47793938  1.64977984  1.8913277   0.41831372  2.12260319  0.89896559\n -0.09704756  2.67689485].\nReshape your data either using array.reshape(-1, 1) if your data has a single feature or array.reshape(1, -1) if it contains a single sample.",
     "output_type": "error",
     "traceback": [
      "\u001b[0;31m---------------------------------------------------------------------------\u001b[0m",
      "\u001b[0;31mValueError\u001b[0m                                Traceback (most recent call last)",
      "\u001b[0;32m/var/folders/z2/pjrhpl094v7gvtyyckpflx7h0000gn/T/ipykernel_58277/2014793524.py\u001b[0m in \u001b[0;36m<module>\u001b[0;34m\u001b[0m\n\u001b[0;32m----> 1\u001b[0;31m \u001b[0mreg\u001b[0m\u001b[0;34m.\u001b[0m\u001b[0mfit\u001b[0m\u001b[0;34m(\u001b[0m\u001b[0mX\u001b[0m\u001b[0;34m,\u001b[0m\u001b[0my\u001b[0m\u001b[0;34m)\u001b[0m\u001b[0;34m\u001b[0m\u001b[0;34m\u001b[0m\u001b[0m\n\u001b[0m",
      "\u001b[0;32m~/miniconda3/envs/dssa/lib/python3.8/site-packages/sklearn/linear_model/_base.py\u001b[0m in \u001b[0;36mfit\u001b[0;34m(self, X, y, sample_weight)\u001b[0m\n\u001b[1;32m    660\u001b[0m         \u001b[0maccept_sparse\u001b[0m \u001b[0;34m=\u001b[0m \u001b[0;32mFalse\u001b[0m \u001b[0;32mif\u001b[0m \u001b[0mself\u001b[0m\u001b[0;34m.\u001b[0m\u001b[0mpositive\u001b[0m \u001b[0;32melse\u001b[0m \u001b[0;34m[\u001b[0m\u001b[0;34m\"csr\"\u001b[0m\u001b[0;34m,\u001b[0m \u001b[0;34m\"csc\"\u001b[0m\u001b[0;34m,\u001b[0m \u001b[0;34m\"coo\"\u001b[0m\u001b[0;34m]\u001b[0m\u001b[0;34m\u001b[0m\u001b[0;34m\u001b[0m\u001b[0m\n\u001b[1;32m    661\u001b[0m \u001b[0;34m\u001b[0m\u001b[0m\n\u001b[0;32m--> 662\u001b[0;31m         X, y = self._validate_data(\n\u001b[0m\u001b[1;32m    663\u001b[0m             \u001b[0mX\u001b[0m\u001b[0;34m,\u001b[0m \u001b[0my\u001b[0m\u001b[0;34m,\u001b[0m \u001b[0maccept_sparse\u001b[0m\u001b[0;34m=\u001b[0m\u001b[0maccept_sparse\u001b[0m\u001b[0;34m,\u001b[0m \u001b[0my_numeric\u001b[0m\u001b[0;34m=\u001b[0m\u001b[0;32mTrue\u001b[0m\u001b[0;34m,\u001b[0m \u001b[0mmulti_output\u001b[0m\u001b[0;34m=\u001b[0m\u001b[0;32mTrue\u001b[0m\u001b[0;34m\u001b[0m\u001b[0;34m\u001b[0m\u001b[0m\n\u001b[1;32m    664\u001b[0m         )\n",
      "\u001b[0;32m~/miniconda3/envs/dssa/lib/python3.8/site-packages/sklearn/base.py\u001b[0m in \u001b[0;36m_validate_data\u001b[0;34m(self, X, y, reset, validate_separately, **check_params)\u001b[0m\n\u001b[1;32m    579\u001b[0m                 \u001b[0my\u001b[0m \u001b[0;34m=\u001b[0m \u001b[0mcheck_array\u001b[0m\u001b[0;34m(\u001b[0m\u001b[0my\u001b[0m\u001b[0;34m,\u001b[0m \u001b[0;34m**\u001b[0m\u001b[0mcheck_y_params\u001b[0m\u001b[0;34m)\u001b[0m\u001b[0;34m\u001b[0m\u001b[0;34m\u001b[0m\u001b[0m\n\u001b[1;32m    580\u001b[0m             \u001b[0;32melse\u001b[0m\u001b[0;34m:\u001b[0m\u001b[0;34m\u001b[0m\u001b[0;34m\u001b[0m\u001b[0m\n\u001b[0;32m--> 581\u001b[0;31m                 \u001b[0mX\u001b[0m\u001b[0;34m,\u001b[0m \u001b[0my\u001b[0m \u001b[0;34m=\u001b[0m \u001b[0mcheck_X_y\u001b[0m\u001b[0;34m(\u001b[0m\u001b[0mX\u001b[0m\u001b[0;34m,\u001b[0m \u001b[0my\u001b[0m\u001b[0;34m,\u001b[0m \u001b[0;34m**\u001b[0m\u001b[0mcheck_params\u001b[0m\u001b[0;34m)\u001b[0m\u001b[0;34m\u001b[0m\u001b[0;34m\u001b[0m\u001b[0m\n\u001b[0m\u001b[1;32m    582\u001b[0m             \u001b[0mout\u001b[0m \u001b[0;34m=\u001b[0m \u001b[0mX\u001b[0m\u001b[0;34m,\u001b[0m \u001b[0my\u001b[0m\u001b[0;34m\u001b[0m\u001b[0;34m\u001b[0m\u001b[0m\n\u001b[1;32m    583\u001b[0m \u001b[0;34m\u001b[0m\u001b[0m\n",
      "\u001b[0;32m~/miniconda3/envs/dssa/lib/python3.8/site-packages/sklearn/utils/validation.py\u001b[0m in \u001b[0;36mcheck_X_y\u001b[0;34m(X, y, accept_sparse, accept_large_sparse, dtype, order, copy, force_all_finite, ensure_2d, allow_nd, multi_output, ensure_min_samples, ensure_min_features, y_numeric, estimator)\u001b[0m\n\u001b[1;32m    962\u001b[0m         \u001b[0;32mraise\u001b[0m \u001b[0mValueError\u001b[0m\u001b[0;34m(\u001b[0m\u001b[0;34m\"y cannot be None\"\u001b[0m\u001b[0;34m)\u001b[0m\u001b[0;34m\u001b[0m\u001b[0;34m\u001b[0m\u001b[0m\n\u001b[1;32m    963\u001b[0m \u001b[0;34m\u001b[0m\u001b[0m\n\u001b[0;32m--> 964\u001b[0;31m     X = check_array(\n\u001b[0m\u001b[1;32m    965\u001b[0m         \u001b[0mX\u001b[0m\u001b[0;34m,\u001b[0m\u001b[0;34m\u001b[0m\u001b[0;34m\u001b[0m\u001b[0m\n\u001b[1;32m    966\u001b[0m         \u001b[0maccept_sparse\u001b[0m\u001b[0;34m=\u001b[0m\u001b[0maccept_sparse\u001b[0m\u001b[0;34m,\u001b[0m\u001b[0;34m\u001b[0m\u001b[0;34m\u001b[0m\u001b[0m\n",
      "\u001b[0;32m~/miniconda3/envs/dssa/lib/python3.8/site-packages/sklearn/utils/validation.py\u001b[0m in \u001b[0;36mcheck_array\u001b[0;34m(array, accept_sparse, accept_large_sparse, dtype, order, copy, force_all_finite, ensure_2d, allow_nd, ensure_min_samples, ensure_min_features, estimator)\u001b[0m\n\u001b[1;32m    767\u001b[0m             \u001b[0;31m# If input is 1D raise error\u001b[0m\u001b[0;34m\u001b[0m\u001b[0;34m\u001b[0m\u001b[0;34m\u001b[0m\u001b[0m\n\u001b[1;32m    768\u001b[0m             \u001b[0;32mif\u001b[0m \u001b[0marray\u001b[0m\u001b[0;34m.\u001b[0m\u001b[0mndim\u001b[0m \u001b[0;34m==\u001b[0m \u001b[0;36m1\u001b[0m\u001b[0;34m:\u001b[0m\u001b[0;34m\u001b[0m\u001b[0;34m\u001b[0m\u001b[0m\n\u001b[0;32m--> 769\u001b[0;31m                 raise ValueError(\n\u001b[0m\u001b[1;32m    770\u001b[0m                     \u001b[0;34m\"Expected 2D array, got 1D array instead:\\narray={}.\\n\"\u001b[0m\u001b[0;34m\u001b[0m\u001b[0;34m\u001b[0m\u001b[0m\n\u001b[1;32m    771\u001b[0m                     \u001b[0;34m\"Reshape your data either using array.reshape(-1, 1) if \"\u001b[0m\u001b[0;34m\u001b[0m\u001b[0;34m\u001b[0m\u001b[0m\n",
      "\u001b[0;31mValueError\u001b[0m: Expected 2D array, got 1D array instead:\narray=[ 2.4085801   1.66434523 -0.19699327  1.95745135  1.20661803  1.10369561\n  2.3781342   0.39470362  1.68103236  0.58270772 -0.40374379  1.27380399\n  0.09928011  1.51715036  0.59810466  0.96088542  1.59028755  2.31111471\n -0.5576742  -0.97574464 -0.62159024  0.53022896  2.39104426  2.66750331\n  0.33997897  3.14465573  2.36416048  2.05729291  1.4308217   1.55517148\n  2.0555417   1.31570381 -0.59476259  1.21021078  3.00642358  0.03791732\n  1.32833462  0.91214535  0.54190848  1.07421343 -0.76714625  1.50120589\n  0.47793938  1.64977984  1.8913277   0.41831372  2.12260319  0.89896559\n -0.09704756  2.67689485].\nReshape your data either using array.reshape(-1, 1) if your data has a single feature or array.reshape(1, -1) if it contains a single sample."
     ]
    }
   ],
   "source": [
    "reg.fit(X,y)"
   ]
  },
  {
   "cell_type": "markdown",
   "id": "65315fd1-0f71-40db-bc82-3ce2cde7ff26",
   "metadata": {},
   "source": [
    "* 현재 상황에서 reg.fit()명령어를 이용하여 학습하면 에러가 나는데 그 이유는 X벡터가 1차원 벡터로 주어져 있기 때문이다. (현재의 차원 1차원, n개의 벡터)\n",
    "* 1차원인 종속변수와 달리 머신러닝 상황에서 대부분의 데이터는 matrix형태, 즉 2차원의 형태를 갖는다. 따라서 현재 독립변수가 1개의 feature로 구성되어 있다 하더라도 이를 2차원의 형태로 바꾸어주어야 한다. (즉 2차원, nxp 형태로 바꾸어주어야 한다)"
   ]
  },
  {
   "cell_type": "code",
   "execution_count": 19,
   "id": "9f9e5d76-3c60-4bb4-8b3d-8be1d20de7c3",
   "metadata": {},
   "outputs": [
    {
     "data": {
      "text/plain": [
       "array([[ 2.4085801 ],\n",
       "       [ 1.66434523],\n",
       "       [-0.19699327],\n",
       "       [ 1.95745135],\n",
       "       [ 1.20661803],\n",
       "       [ 1.10369561],\n",
       "       [ 2.3781342 ],\n",
       "       [ 0.39470362],\n",
       "       [ 1.68103236],\n",
       "       [ 0.58270772],\n",
       "       [-0.40374379],\n",
       "       [ 1.27380399],\n",
       "       [ 0.09928011],\n",
       "       [ 1.51715036],\n",
       "       [ 0.59810466],\n",
       "       [ 0.96088542],\n",
       "       [ 1.59028755],\n",
       "       [ 2.31111471],\n",
       "       [-0.5576742 ],\n",
       "       [-0.97574464],\n",
       "       [-0.62159024],\n",
       "       [ 0.53022896],\n",
       "       [ 2.39104426],\n",
       "       [ 2.66750331],\n",
       "       [ 0.33997897],\n",
       "       [ 3.14465573],\n",
       "       [ 2.36416048],\n",
       "       [ 2.05729291],\n",
       "       [ 1.4308217 ],\n",
       "       [ 1.55517148],\n",
       "       [ 2.0555417 ],\n",
       "       [ 1.31570381],\n",
       "       [-0.59476259],\n",
       "       [ 1.21021078],\n",
       "       [ 3.00642358],\n",
       "       [ 0.03791732],\n",
       "       [ 1.32833462],\n",
       "       [ 0.91214535],\n",
       "       [ 0.54190848],\n",
       "       [ 1.07421343],\n",
       "       [-0.76714625],\n",
       "       [ 1.50120589],\n",
       "       [ 0.47793938],\n",
       "       [ 1.64977984],\n",
       "       [ 1.8913277 ],\n",
       "       [ 0.41831372],\n",
       "       [ 2.12260319],\n",
       "       [ 0.89896559],\n",
       "       [-0.09704756],\n",
       "       [ 2.67689485]])"
      ]
     },
     "execution_count": 19,
     "metadata": {},
     "output_type": "execute_result"
    }
   ],
   "source": [
    "X=X.reshape(-1,1)\n",
    "X"
   ]
  },
  {
   "cell_type": "code",
   "execution_count": 18,
   "id": "85e6a7bd-3515-4413-8c9c-59f8bf4d7380",
   "metadata": {},
   "outputs": [
    {
     "data": {
      "text/plain": [
       "LinearRegression()"
      ]
     },
     "execution_count": 18,
     "metadata": {},
     "output_type": "execute_result"
    }
   ],
   "source": [
    "reg.fit(X,y)"
   ]
  },
  {
   "cell_type": "markdown",
   "id": "1baeea11-b0c6-4974-a46d-a485ba76edac",
   "metadata": {},
   "source": [
    "* 학습이 완료되고 선형회귀 객체에 저장되어있는 학습된 패러미터를 확인해보자."
   ]
  },
  {
   "cell_type": "code",
   "execution_count": 20,
   "id": "84abe4e9-bdc2-4b7b-8dc6-61037ad282e3",
   "metadata": {},
   "outputs": [
    {
     "data": {
      "text/plain": [
       "(array([2.17033272]), -2.948694609225955)"
      ]
     },
     "execution_count": 20,
     "metadata": {},
     "output_type": "execute_result"
    }
   ],
   "source": [
    "reg.coef_, reg.intercept_"
   ]
  },
  {
   "cell_type": "markdown",
   "id": "8ce5fbcb-762a-4090-8d76-4c5069573d00",
   "metadata": {},
   "source": [
    "* 우리가 생성시켰던 계수를 얼추 맞추는 것을 확인할수 있다. 데이터 생성시 발생한 랜덤한 요소로 인하여 완벽하게 데이터를 맞추지는 못하였음을 확인할 수 있다."
   ]
  },
  {
   "cell_type": "markdown",
   "id": "5c1bcc4e-a98c-406f-b3b2-da453af82fe9",
   "metadata": {},
   "source": [
    "## 학습된 모형을 이용한 예측"
   ]
  },
  {
   "cell_type": "code",
   "execution_count": 21,
   "id": "fbc6895e-ab61-479a-8518-b2fe61ca3981",
   "metadata": {},
   "outputs": [],
   "source": [
    "y_pred = reg.predict(X)"
   ]
  },
  {
   "cell_type": "code",
   "execution_count": 22,
   "id": "a3a9ce5b-30dd-461b-bbbf-cda0696f1bb3",
   "metadata": {},
   "outputs": [
    {
     "data": {
      "text/plain": [
       "<matplotlib.collections.PathCollection at 0x7f80113b3ac0>"
      ]
     },
     "execution_count": 22,
     "metadata": {},
     "output_type": "execute_result"
    },
    {
     "data": {
      "image/png": "[encoded data removed]",
      "text/plain": [
       "<Figure size 432x288 with 1 Axes>"
      ]
     },
     "metadata": {
      "needs_background": "light"
     },
     "output_type": "display_data"
    }
   ],
   "source": [
    "plt.scatter(X,y)"
   ]
  },
  {
   "cell_type": "code",
   "execution_count": 23,
   "id": "1d864bb9-0995-4220-a506-fa9ec0619d12",
   "metadata": {},
   "outputs": [
    {
     "data": {
      "text/plain": [
       "array([ 2.27872559,  0.66348831, -3.37623556,  1.29962612, -0.32993202,\n",
       "       -0.55330791,  2.21264787, -2.09205642,  0.69970493, -1.68402498,\n",
       "       -3.82495297, -0.18411612, -2.73322374,  0.34402646, -1.65060849,\n",
       "       -0.86325355,  0.5027585 ,  2.06719327, -4.15903317, -5.06638512,\n",
       "       -4.29775225, -1.79792136,  2.24066698,  2.84067511, -2.21082712,\n",
       "        3.87625463,  2.18232023,  1.51631551,  0.15666456,  0.42654494,\n",
       "        1.51251481, -0.09317959, -4.23952732, -0.32213456,  3.57624487,\n",
       "       -2.86640142, -0.06576651, -0.96903571, -1.77257289, -0.61729406,\n",
       "       -4.61365723,  0.30942166, -1.91140713,  0.63187657,  1.15611579,\n",
       "       -2.04081466,  1.65806055, -0.99764018, -3.1593201 ,  2.86105787])"
      ]
     },
     "execution_count": 23,
     "metadata": {},
     "output_type": "execute_result"
    }
   ],
   "source": [
    "y_pred=reg.predict(X)\n",
    "y_pred"
   ]
  },
  {
   "cell_type": "code",
   "execution_count": 27,
   "id": "2343954f-e16a-46a9-bcb1-1f328cca172d",
   "metadata": {},
   "outputs": [
    {
     "data": {
      "text/plain": [
       "<matplotlib.collections.PathCollection at 0x7f8011405be0>"
      ]
     },
     "execution_count": 27,
     "metadata": {},
     "output_type": "execute_result"
    },
    {
     "data": {
      "image/png": "[encoded data removed]",
      "text/plain": [
       "<Figure size 432x288 with 1 Axes>"
      ]
     },
     "metadata": {
      "needs_background": "light"
     },
     "output_type": "display_data"
    }
   ],
   "source": [
    "plt.scatter(X,y)\n",
    "plt.scatter(X,y_pred)"
   ]
  },
  {
   "cell_type": "markdown",
   "id": "b0e2a468-d522-470b-88dd-2b3866fcc975",
   "metadata": {},
   "source": [
    "## 새로운 데이터에 대한 예측"
   ]
  },
  {
   "cell_type": "code",
   "execution_count": 29,
   "id": "b758e8bc-2e50-4a8f-9d53-d4d0bbcd9c13",
   "metadata": {},
   "outputs": [
    {
     "data": {
      "text/plain": [
       "array([-3.        , -2.87755102, -2.75510204, -2.63265306, -2.51020408,\n",
       "       -2.3877551 , -2.26530612, -2.14285714, -2.02040816, -1.89795918,\n",
       "       -1.7755102 , -1.65306122, -1.53061224, -1.40816327, -1.28571429,\n",
       "       -1.16326531, -1.04081633, -0.91836735, -0.79591837, -0.67346939,\n",
       "       -0.55102041, -0.42857143, -0.30612245, -0.18367347, -0.06122449,\n",
       "        0.06122449,  0.18367347,  0.30612245,  0.42857143,  0.55102041,\n",
       "        0.67346939,  0.79591837,  0.91836735,  1.04081633,  1.16326531,\n",
       "        1.28571429,  1.40816327,  1.53061224,  1.65306122,  1.7755102 ,\n",
       "        1.89795918,  2.02040816,  2.14285714,  2.26530612,  2.3877551 ,\n",
       "        2.51020408,  2.63265306,  2.75510204,  2.87755102,  3.        ])"
      ]
     },
     "execution_count": 29,
     "metadata": {},
     "output_type": "execute_result"
    }
   ],
   "source": [
    "# -3부터 3까지 등간격으로 50개의 데이터 생성 \n",
    "x2=np.linspace(-3,3,50)\n",
    "x2"
   ]
  },
  {
   "cell_type": "code",
   "execution_count": 30,
   "id": "93e9483a-c98b-462a-9f33-bfe88a0f5f07",
   "metadata": {},
   "outputs": [],
   "source": [
    "y2_pred = reg.predict(x2.reshape(-1,1))"
   ]
  },
  {
   "cell_type": "code",
   "execution_count": 31,
   "id": "ed0c29a2-0937-4ab4-ac9f-8cebadeba4db",
   "metadata": {},
   "outputs": [
    {
     "data": {
      "text/plain": [
       "[<matplotlib.lines.Line2D at 0x7f8009436c40>]"
      ]
     },
     "execution_count": 31,
     "metadata": {},
     "output_type": "execute_result"
    },
    {
     "data": {
      "image/png": "[encoded data removed]",
      "text/plain": [
       "<Figure size 432x288 with 1 Axes>"
      ]
     },
     "metadata": {
      "needs_background": "light"
     },
     "output_type": "display_data"
    }
   ],
   "source": [
    "plt.scatter(X,y)\n",
    "plt.plot(x2,y2_pred)"
   ]
  }
 ],
 "metadata": {
  "kernelspec": {
   "display_name": "Python 3 (ipykernel)",
   "language": "python",
   "name": "python3"
  },
  "language_info": {
   "codemirror_mode": {
    "name": "ipython",
    "version": 3
   },
   "file_extension": ".py",
   "mimetype": "text/x-python",
   "name": "python",
   "nbconvert_exporter": "python",
   "pygments_lexer": "ipython3",
   "version": "3.8.12"
  }
 },
 "nbformat": 4,
 "nbformat_minor": 5
}
