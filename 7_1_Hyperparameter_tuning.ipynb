{
 "cells": [
  {
   "cell_type": "markdown",
   "id": "19793f1f-c150-45dc-ad73-28177998e4dc",
   "metadata": {},
   "source": [
    "## 데이터 불러오기"
   ]
  },
  {
   "cell_type": "code",
   "execution_count": 1,
   "id": "adabe6e4-58fa-42eb-8e64-9e05e9dd7b4a",
   "metadata": {},
   "outputs": [],
   "source": [
    "import pandas as pd\n",
    "df=pd.read_csv('data/auto.csv')"
   ]
  },
  {
   "cell_type": "code",
   "execution_count": 3,
   "id": "8e2da77a-ba54-4f13-8aed-f01152264675",
   "metadata": {},
   "outputs": [
    {
     "data": {
      "text/html": [
       "<div>\n",
       "<style scoped>\n",
       "    .dataframe tbody tr th:only-of-type {\n",
       "        vertical-align: middle;\n",
       "    }\n",
       "\n",
       "    .dataframe tbody tr th {\n",
       "        vertical-align: top;\n",
       "    }\n",
       "\n",
       "    .dataframe thead th {\n",
       "        text-align: right;\n",
       "    }\n",
       "</style>\n",
       "<table border=\"1\" class=\"dataframe\">\n",
       "  <thead>\n",
       "    <tr style=\"text-align: right;\">\n",
       "      <th></th>\n",
       "      <th>cylinders</th>\n",
       "      <th>displacement</th>\n",
       "      <th>horsepower</th>\n",
       "      <th>weight</th>\n",
       "      <th>acceleration</th>\n",
       "      <th>model_year</th>\n",
       "      <th>origin</th>\n",
       "      <th>mpg</th>\n",
       "    </tr>\n",
       "  </thead>\n",
       "  <tbody>\n",
       "    <tr>\n",
       "      <th>0</th>\n",
       "      <td>8</td>\n",
       "      <td>307.0</td>\n",
       "      <td>130.0</td>\n",
       "      <td>3504.0</td>\n",
       "      <td>12.0</td>\n",
       "      <td>70</td>\n",
       "      <td>1</td>\n",
       "      <td>18.0</td>\n",
       "    </tr>\n",
       "    <tr>\n",
       "      <th>1</th>\n",
       "      <td>8</td>\n",
       "      <td>350.0</td>\n",
       "      <td>165.0</td>\n",
       "      <td>3693.0</td>\n",
       "      <td>11.5</td>\n",
       "      <td>70</td>\n",
       "      <td>1</td>\n",
       "      <td>15.0</td>\n",
       "    </tr>\n",
       "    <tr>\n",
       "      <th>2</th>\n",
       "      <td>8</td>\n",
       "      <td>318.0</td>\n",
       "      <td>150.0</td>\n",
       "      <td>3436.0</td>\n",
       "      <td>11.0</td>\n",
       "      <td>70</td>\n",
       "      <td>1</td>\n",
       "      <td>18.0</td>\n",
       "    </tr>\n",
       "    <tr>\n",
       "      <th>3</th>\n",
       "      <td>8</td>\n",
       "      <td>304.0</td>\n",
       "      <td>150.0</td>\n",
       "      <td>3433.0</td>\n",
       "      <td>12.0</td>\n",
       "      <td>70</td>\n",
       "      <td>1</td>\n",
       "      <td>16.0</td>\n",
       "    </tr>\n",
       "    <tr>\n",
       "      <th>4</th>\n",
       "      <td>8</td>\n",
       "      <td>302.0</td>\n",
       "      <td>140.0</td>\n",
       "      <td>3449.0</td>\n",
       "      <td>10.5</td>\n",
       "      <td>70</td>\n",
       "      <td>1</td>\n",
       "      <td>17.0</td>\n",
       "    </tr>\n",
       "    <tr>\n",
       "      <th>...</th>\n",
       "      <td>...</td>\n",
       "      <td>...</td>\n",
       "      <td>...</td>\n",
       "      <td>...</td>\n",
       "      <td>...</td>\n",
       "      <td>...</td>\n",
       "      <td>...</td>\n",
       "      <td>...</td>\n",
       "    </tr>\n",
       "    <tr>\n",
       "      <th>387</th>\n",
       "      <td>4</td>\n",
       "      <td>140.0</td>\n",
       "      <td>86.0</td>\n",
       "      <td>2790.0</td>\n",
       "      <td>15.6</td>\n",
       "      <td>82</td>\n",
       "      <td>1</td>\n",
       "      <td>27.0</td>\n",
       "    </tr>\n",
       "    <tr>\n",
       "      <th>388</th>\n",
       "      <td>4</td>\n",
       "      <td>97.0</td>\n",
       "      <td>52.0</td>\n",
       "      <td>2130.0</td>\n",
       "      <td>24.6</td>\n",
       "      <td>82</td>\n",
       "      <td>2</td>\n",
       "      <td>44.0</td>\n",
       "    </tr>\n",
       "    <tr>\n",
       "      <th>389</th>\n",
       "      <td>4</td>\n",
       "      <td>135.0</td>\n",
       "      <td>84.0</td>\n",
       "      <td>2295.0</td>\n",
       "      <td>11.6</td>\n",
       "      <td>82</td>\n",
       "      <td>1</td>\n",
       "      <td>32.0</td>\n",
       "    </tr>\n",
       "    <tr>\n",
       "      <th>390</th>\n",
       "      <td>4</td>\n",
       "      <td>120.0</td>\n",
       "      <td>79.0</td>\n",
       "      <td>2625.0</td>\n",
       "      <td>18.6</td>\n",
       "      <td>82</td>\n",
       "      <td>1</td>\n",
       "      <td>28.0</td>\n",
       "    </tr>\n",
       "    <tr>\n",
       "      <th>391</th>\n",
       "      <td>4</td>\n",
       "      <td>119.0</td>\n",
       "      <td>82.0</td>\n",
       "      <td>2720.0</td>\n",
       "      <td>19.4</td>\n",
       "      <td>82</td>\n",
       "      <td>1</td>\n",
       "      <td>31.0</td>\n",
       "    </tr>\n",
       "  </tbody>\n",
       "</table>\n",
       "<p>392 rows × 8 columns</p>\n",
       "</div>"
      ],
      "text/plain": [
       "     cylinders  displacement  horsepower  weight  acceleration  model_year  \\\n",
       "0            8         307.0       130.0  3504.0          12.0          70   \n",
       "1            8         350.0       165.0  3693.0          11.5          70   \n",
       "2            8         318.0       150.0  3436.0          11.0          70   \n",
       "3            8         304.0       150.0  3433.0          12.0          70   \n",
       "4            8         302.0       140.0  3449.0          10.5          70   \n",
       "..         ...           ...         ...     ...           ...         ...   \n",
       "387          4         140.0        86.0  2790.0          15.6          82   \n",
       "388          4          97.0        52.0  2130.0          24.6          82   \n",
       "389          4         135.0        84.0  2295.0          11.6          82   \n",
       "390          4         120.0        79.0  2625.0          18.6          82   \n",
       "391          4         119.0        82.0  2720.0          19.4          82   \n",
       "\n",
       "     origin   mpg  \n",
       "0         1  18.0  \n",
       "1         1  15.0  \n",
       "2         1  18.0  \n",
       "3         1  16.0  \n",
       "4         1  17.0  \n",
       "..      ...   ...  \n",
       "387       1  27.0  \n",
       "388       2  44.0  \n",
       "389       1  32.0  \n",
       "390       1  28.0  \n",
       "391       1  31.0  \n",
       "\n",
       "[392 rows x 8 columns]"
      ]
     },
     "execution_count": 3,
     "metadata": {},
     "output_type": "execute_result"
    }
   ],
   "source": [
    "df"
   ]
  },
  {
   "cell_type": "markdown",
   "id": "861a9699-c6b2-49c9-8dc7-6eb94f006973",
   "metadata": {},
   "source": [
    "## 데이터 나누기"
   ]
  },
  {
   "cell_type": "code",
   "execution_count": 4,
   "id": "4175ecb6-cde8-4a1a-9ce3-09489b072098",
   "metadata": {
    "tags": []
   },
   "outputs": [],
   "source": [
    "df=pd.get_dummies(df,columns=['origin'])\n",
    "y=df['mpg']\n",
    "X=df.drop(columns=['mpg'])"
   ]
  },
  {
   "cell_type": "markdown",
   "id": "df7c23d6-6ad2-497a-a196-8da2aa55a5fd",
   "metadata": {},
   "source": [
    "## 교차검증"
   ]
  },
  {
   "cell_type": "code",
   "execution_count": 5,
   "id": "8e544389-620b-4e98-804f-8f2968f891b5",
   "metadata": {},
   "outputs": [
    {
     "data": {
      "text/plain": [
       "{'fit_time': array([0.00390172, 0.00178385, 0.00203681, 0.00137019, 0.00159001]),\n",
       " 'score_time': array([0.00216818, 0.00116491, 0.00117517, 0.00153184, 0.00112677]),\n",
       " 'test_neg_mean_squared_error': array([-15.49677019, -12.03513887, -10.13647384, -11.01268351,\n",
       "         -8.17289032]),\n",
       " 'train_neg_mean_squared_error': array([ -9.6869278 , -10.44217924, -10.85405129, -10.70507139,\n",
       "        -11.34520025]),\n",
       " 'test_r2': array([0.76461179, 0.77967876, 0.84205114, 0.83873602, 0.83272818]),\n",
       " 'train_r2': array([0.83699487, 0.83113356, 0.8186228 , 0.81812422, 0.82195084])}"
      ]
     },
     "execution_count": 5,
     "metadata": {},
     "output_type": "execute_result"
    }
   ],
   "source": [
    "from sklearn.linear_model import LinearRegression\n",
    "from sklearn.model_selection import KFold, cross_validate\n",
    "\n",
    "reg = LinearRegression()\n",
    "kfold = KFold(5,shuffle=True)\n",
    "result = cross_validate(estimator=reg, X=X, y=y, cv=kfold, scoring=['neg_mean_squared_error','r2'], return_train_score=True)\n",
    "result"
   ]
  },
  {
   "cell_type": "markdown",
   "id": "41a46b50-8d06-47a3-9897-25332c267105",
   "metadata": {},
   "source": [
    "## 하이퍼패러미터 변경(차수 K)"
   ]
  },
  {
   "cell_type": "code",
   "execution_count": 8,
   "id": "0c9cd99a-78cb-4b3d-8697-750ef5d4e478",
   "metadata": {},
   "outputs": [
    {
     "name": "stdout",
     "output_type": "stream",
     "text": [
      "1 train -10.567100540610168 0.825860553198404\n",
      "1 test -11.728503993657247 0.8022773532669403\n",
      "2 train -13.501050995734664 0.7765241514911924\n",
      "2 test -18.13654791100012 0.6997741954888419\n",
      "3 train -4.514746147867788 0.924839699625007\n",
      "3 test -295.0927374900547 -4.102110860386073\n",
      "4 train -0.24020288898421013 0.9960602848414817\n",
      "4 test -105376.52130892195 -1970.6891437773606\n"
     ]
    }
   ],
   "source": [
    "from sklearn.preprocessing import PolynomialFeatures\n",
    "\n",
    "kfold = KFold(5,shuffle=True)\n",
    "for i in range(1,5):\n",
    "    transformer = PolynomialFeatures(degree=i, interaction_only=False)\n",
    "    X_=transformer.fit_transform(X) #데이터에 차수 추가\n",
    "    reg= LinearRegression()    \n",
    "    result=cross_validate(estimator=reg, X=X_, y=y, cv=kfold, scoring=['neg_mean_squared_error','r2'], return_train_score=True)\n",
    "    print(i,'train',result['train_neg_mean_squared_error'].mean(), result['train_r2'].mean())\n",
    "    print(i,'test',result['test_neg_mean_squared_error'].mean(), result['test_r2'].mean())"
   ]
  },
  {
   "cell_type": "markdown",
   "id": "faa96e97-fe3e-451e-9e9e-b5536fe1285c",
   "metadata": {
    "tags": []
   },
   "source": [
    "## Regularization"
   ]
  },
  {
   "cell_type": "code",
   "execution_count": 9,
   "id": "b82ae222-b401-4392-bf8c-f6493a7fd6fa",
   "metadata": {},
   "outputs": [
    {
     "data": {
      "text/plain": [
       "array([-0.44629638,  0.02286369, -0.01762971, -0.00671945,  0.07651421,\n",
       "        0.77615517, -2.56966676,  0.        ,  0.16691861])"
      ]
     },
     "execution_count": 9,
     "metadata": {},
     "output_type": "execute_result"
    }
   ],
   "source": [
    "from sklearn.linear_model import Ridge, Lasso\n",
    "reg = Lasso(alpha=0.01) # alpha : 작을수록 유연성 높음, Ridge에서의 lambda에 해당 (모델 규제)\n",
    "reg.fit(X,y)\n",
    "reg.coef_"
   ]
  },
  {
   "cell_type": "markdown",
   "id": "30252c89-3c0f-4d13-b477-f8e578a159c1",
   "metadata": {},
   "source": [
    "## Lambda의 크기에 따른 계수의 변화를 살펴보자"
   ]
  },
  {
   "cell_type": "code",
   "execution_count": 10,
   "id": "c8d16d00-b133-4808-ac66-efde5ba94f29",
   "metadata": {},
   "outputs": [
    {
     "name": "stdout",
     "output_type": "stream",
     "text": [
      "0 [-0.48970942  0.02397864 -0.01818346 -0.00671038  0.07910304  0.77702694\n",
      " -2.76337047 -0.13336811  0.08985776]\n",
      "0.0001 [-0.48927812  0.02396754 -0.01817795 -0.00671047  0.07907707  0.77701821\n",
      " -2.6293992   0.          0.22266311]\n",
      "0.001 [-0.4853459   0.02386686 -0.0181282  -0.0067113   0.07884366  0.77693967\n",
      " -2.62396889  0.          0.21759332]\n",
      "0.01 [-0.44629638  0.02286369 -0.01762971 -0.00671945  0.07651421  0.77615517\n",
      " -2.56966676  0.          0.16691861]\n",
      "0.1 [-0.06660805  0.0126583  -0.01331772 -0.00673194  0.05328912  0.76251936\n",
      " -1.8486989   0.          0.        ]\n",
      "1 [-0.          0.         -0.00734394 -0.00646937  0.          0.66308442\n",
      " -0.          0.          0.        ]\n"
     ]
    },
    {
     "name": "stderr",
     "output_type": "stream",
     "text": [
      "/var/folders/z2/pjrhpl094v7gvtyyckpflx7h0000gn/T/ipykernel_54171/3602531645.py:6: UserWarning: With alpha=0, this algorithm does not converge well. You are advised to use the LinearRegression estimator\n",
      "  reg.fit(X,y)\n",
      "/Users/jung_yujin/miniconda3/envs/dssa/lib/python3.8/site-packages/sklearn/linear_model/_coordinate_descent.py:647: UserWarning: Coordinate descent with no regularization may lead to unexpected results and is discouraged.\n",
      "  model = cd_fast.enet_coordinate_descent(\n",
      "/Users/jung_yujin/miniconda3/envs/dssa/lib/python3.8/site-packages/sklearn/linear_model/_coordinate_descent.py:647: ConvergenceWarning: Objective did not converge. You might want to increase the number of iterations, check the scale of the features or consider increasing regularisation. Duality gap: 2.094e+03, tolerance: 2.382e+00 Linear regression models with null weight for the l1 regularization term are more efficiently fitted using one of the solvers implemented in sklearn.linear_model.Ridge/RidgeCV instead.\n",
      "  model = cd_fast.enet_coordinate_descent(\n"
     ]
    },
    {
     "data": {
      "text/plain": [
       "<Figure size 864x576 with 0 Axes>"
      ]
     },
     "metadata": {},
     "output_type": "display_data"
    }
   ],
   "source": [
    "import matplotlib.pyplot as plt\n",
    "plt.figure(figsize=(12,8))\n",
    "lambdas = [0,0.0001,0.001,0.01,0.1,1]\n",
    "for i in lambdas:\n",
    "    reg = Lasso(alpha=i)\n",
    "    reg.fit(X,y)\n",
    "    print(i, reg.coef_)"
   ]
  },
  {
   "cell_type": "code",
   "execution_count": 11,
   "id": "5ad92412-8829-4d0a-bdf4-bee21ae78a29",
   "metadata": {},
   "outputs": [
    {
     "name": "stdout",
     "output_type": "stream",
     "text": [
      "0 train -10.558452686009906 0.8261420994999801\n",
      "0 test -11.856780499912162 0.8031548110245279\n",
      "0.001 train -10.607646710173785 0.8252710637646519\n",
      "0.001 test -11.374743296398872 0.8102318100165791\n",
      "0.01 train -10.606438008551859 0.8250580622136148\n",
      "0.01 test -11.379367424306293 0.8039254954837919\n",
      "0.1 train -10.773209394002151 0.8225100963946466\n",
      "0.1 test -11.245359980389578 0.8124377937823523\n",
      "0.5 train -11.633655237898125 0.8082341504326577\n",
      "0.5 test -11.940429028101576 0.7980907101326838\n",
      "1 train -11.71005498768512 0.8072053874426883\n",
      "1 test -11.901109362492514 0.8029725220292789\n",
      "10 train -18.006045898156355 0.7035768639730259\n",
      "10 test -18.578544506285233 0.6930580462076547\n",
      "100 train -18.67924515654883 0.6925168955494636\n",
      "100 test -18.816720155246323 0.6895189930865994\n"
     ]
    }
   ],
   "source": [
    "import warnings\n",
    "warnings.filterwarnings('ignore')\n",
    "\n",
    "## 하이퍼패러미터 변경(다항식 추가)\n",
    "kfold = KFold(5,shuffle=True)\n",
    "lambdas = [0,0.001,0.01,0.1,0.5,1,10,100]\n",
    "for l in lambdas:    \n",
    "    reg= Lasso(alpha=l)\n",
    "    result=cross_validate(estimator=reg, X=X, y=y, cv=kfold, scoring=['neg_mean_squared_error','r2'], return_train_score=True)\n",
    "    print(l,'train',result['train_neg_mean_squared_error'].mean(), result['train_r2'].mean())\n",
    "    print(l,'test',result['test_neg_mean_squared_error'].mean(), result['test_r2'].mean())"
   ]
  },
  {
   "cell_type": "markdown",
   "id": "999a3238-e7da-4bfb-a426-669a6b0d63bf",
   "metadata": {},
   "source": [
    "## 다항식 변경 + hyperparameter tuning"
   ]
  },
  {
   "cell_type": "code",
   "execution_count": 12,
   "id": "446fa74f-08c7-4d60-8035-d00378471073",
   "metadata": {},
   "outputs": [
    {
     "name": "stdout",
     "output_type": "stream",
     "text": [
      "1 0 test -11.653909288849508 0.8043890774125245\n",
      "1 0.001 test -11.40721311559199 0.8093615493577537\n",
      "1 0.01 test -11.523136222179001 0.8063696167960869\n",
      "1 0.05 test -11.225274041861319 0.8120639279310764\n",
      "1 0.1 test -11.429950260719195 0.8111777616240534\n",
      "1 0.15 test -11.511943412698162 0.8066654735349135\n",
      "1 0.2 test -11.865030138320156 0.7969079776278772\n",
      "2 0 test -8.122385486411602 0.8625489128929568\n",
      "2 0.001 test -8.340605401394555 0.8619961845814185\n",
      "2 0.01 test -8.607471586540061 0.8487787606257899\n",
      "2 0.05 test -8.434233972302248 0.8597598945580438\n",
      "2 0.1 test -8.398626903501015 0.8594731186315478\n",
      "2 0.15 test -7.859321886496227 0.8689890537776435\n",
      "2 0.2 test -8.104246301277033 0.8645741781680429\n",
      "3 0 test -7.67179828516431 0.8748812717712522\n",
      "3 0.001 test -7.989648993957229 0.8688542259822007\n",
      "3 0.01 test -8.186831406835669 0.8627195465580787\n",
      "3 0.05 test -7.744451000006182 0.8707687138044419\n",
      "3 0.1 test -8.252882640586924 0.8652310331777068\n",
      "3 0.15 test -7.668875128232169 0.8661329008208026\n",
      "3 0.2 test -7.602235302137356 0.8739047633525212\n",
      "4 0 test -8.044993452309196 0.8625664150581954\n",
      "4 0.001 test -7.496573306678438 0.8752566437223954\n",
      "4 0.01 test -8.040189631444733 0.8641619098012375\n",
      "4 0.05 test -8.460725992048445 0.8599497373126613\n",
      "4 0.1 test -7.637962434364451 0.8717921024882808\n",
      "4 0.15 test -8.358959856495762 0.8613646325455175\n",
      "4 0.2 test -8.010881190201847 0.8670474776247925\n"
     ]
    }
   ],
   "source": [
    "import warnings\n",
    "warnings.filterwarnings('ignore')\n",
    "from sklearn.linear_model import Lasso\n",
    "kfold = KFold(5,shuffle=True)\n",
    "for i in range(1,5):\n",
    "    for j in [0,0.001,0.01,0.05,0.1,0.15,0.2]:\n",
    "        transformer = PolynomialFeatures(degree=i, interaction_only=False)\n",
    "        X_=transformer.fit_transform(X)\n",
    "        reg= Lasso(alpha=j)    \n",
    "        result=cross_validate(estimator=reg, X=X_, y=y, cv=kfold, scoring=['neg_mean_squared_error','r2'], return_train_score=True)\n",
    "        print(i,j,'test',result['test_neg_mean_squared_error'].mean(), result['test_r2'].mean())\n",
    "\n",
    "# negative_mean_squared_error, r2 score 둘다 클수록 좋음"
   ]
  }
 ],
 "metadata": {
  "kernelspec": {
   "display_name": "Python 3 (ipykernel)",
   "language": "python",
   "name": "python3"
  },
  "language_info": {
   "codemirror_mode": {
    "name": "ipython",
    "version": 3
   },
   "file_extension": ".py",
   "mimetype": "text/x-python",
   "name": "python",
   "nbconvert_exporter": "python",
   "pygments_lexer": "ipython3",
   "version": "3.8.12"
  }
 },
 "nbformat": 4,
 "nbformat_minor": 5
}
